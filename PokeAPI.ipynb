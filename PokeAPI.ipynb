{
 "cells": [
  {
   "cell_type": "code",
   "execution_count": null,
   "id": "5147632e",
   "metadata": {},
   "outputs": [],
   "source": [
    "import requests \n",
    "\n",
    "\n",
    "class PokeStats:\n",
    "    def __init__(self, name, height, weight):\n",
    "        self.name = name.title()\n",
    "        self.height = height\n",
    "        self.weight = weight\n",
    "        \n",
    "    def __str__(self):\n",
    "        return f\"{self.name} is {self.height} decimetres tall and weighs {self.weight} hectograms.\"\n",
    "\n",
    "\n",
    "\n",
    "\n",
    "\n",
    "class PokeAPI:\n",
    "    base_url = 'https://pokeapi.co/api/v2/'\n",
    "    \n",
    "    def __init__(self, name):\n",
    "        self.name = name\n",
    "    \n",
    "    def __get(self, name):\n",
    "        request_url = f'{self.base_url}pokemon/{self.name.lower()}/'\n",
    "        response = requests.get(request_url)\n",
    "        if response.ok:\n",
    "            data = response.json()\n",
    "            return data\n",
    "        else:\n",
    "            return None\n",
    "    \n",
    "    def get_pokemon_data(self, name):\n",
    "        pokemon_data = self.__get(name)\n",
    "        if pokemon_data:\n",
    "            pokemon_name = pokemon_data['name']\n",
    "            pokemon_height = pokemon_data['height']\n",
    "            pokemon_weight = pokemon_data['weight']\n",
    "            pokemon_obj = PokeStats(pokemon_name, pokemon_height, pokemon_weight)\n",
    "            return pokemon_obj\n",
    "        else:\n",
    "            print('No data for this Pokemon -', name)"
   ]
  },
  {
   "cell_type": "code",
   "execution_count": 20,
   "id": "d4aa99bd",
   "metadata": {},
   "outputs": [
    {
     "name": "stdout",
     "output_type": "stream",
     "text": [
      "Welcome to the Pokemon database - It will tell you some key statistics for a Pokemon\n",
      "Enter a Pokemon name: pokemon\n",
      "No data for this Pokemon - Pokemon\n",
      "None\n",
      "Enter a Pokemon name: charizard\n",
      "Charizard is 17 decimetres tall and weighs 905 hectograms.\n",
      "Enter a Pokemon name: pikachu\n",
      "Pikachu is 4 decimetres tall and weighs 60 hectograms.\n",
      "Enter a Pokemon name: ditto\n",
      "Ditto is 3 decimetres tall and weighs 40 hectograms.\n",
      "Enter a Pokemon name: quit\n"
     ]
    }
   ],
   "source": [
    "def main():\n",
    "    print('Welcome to the Pokemon database - It will tell you some key statistics for a Pokemon')\n",
    "    while True:\n",
    "        name = input('Enter a Pokemon name: ').title()\n",
    "        poke = PokeAPI(name)\n",
    "#         name = input('Enter a Pokemon name: ').title()\n",
    "        if name.lower() == 'quit':\n",
    "            break\n",
    "        poke_info = poke.get_pokemon_data(name)\n",
    "        print(poke_info)\n",
    "        \n",
    "main()\n",
    "    "
   ]
  }
 ],
 "metadata": {
  "kernelspec": {
   "display_name": "Python 3 (ipykernel)",
   "language": "python",
   "name": "python3"
  },
  "language_info": {
   "codemirror_mode": {
    "name": "ipython",
    "version": 3
   },
   "file_extension": ".py",
   "mimetype": "text/x-python",
   "name": "python",
   "nbconvert_exporter": "python",
   "pygments_lexer": "ipython3",
   "version": "3.11.5"
  }
 },
 "nbformat": 4,
 "nbformat_minor": 5
}
